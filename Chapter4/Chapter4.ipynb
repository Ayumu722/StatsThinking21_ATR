{
 "cells": [
  {
   "cell_type": "markdown",
   "metadata": {},
   "source": [
    "# Chapter4 Summarizing data"
   ]
  },
  {
   "cell_type": "markdown",
   "metadata": {
    "heading_collapsed": true
   },
   "source": [
    "## Library"
   ]
  },
  {
   "cell_type": "code",
   "execution_count": 28,
   "metadata": {
    "hidden": true,
    "scrolled": false
   },
   "outputs": [],
   "source": [
    "library(NHANES)\n",
    "library(dplyr)\n",
    "library(magrittr)\n",
    "library(pander)\n",
    "library(tidyr)\n",
    "library(ggplot2)\n",
    "library(gridExtra)"
   ]
  },
  {
   "cell_type": "markdown",
   "metadata": {},
   "source": [
    "## 4.2 Summarizing data using tables"
   ]
  },
  {
   "cell_type": "markdown",
   "metadata": {
    "heading_collapsed": true
   },
   "source": [
    "### 4.2.1 Frequency distributions"
   ]
  },
  {
   "cell_type": "code",
   "execution_count": 121,
   "metadata": {
    "hidden": true,
    "scrolled": true
   },
   "outputs": [
    {
     "name": "stdout",
     "output_type": "stream",
     "text": [
      "\n",
      "--------------------------------\n",
      " PhysActive   AbsoluteFrequency \n",
      "------------ -------------------\n",
      "     No             3677        \n",
      "\n",
      "    Yes             4649        \n",
      "\n",
      "     NA             1674        \n",
      "--------------------------------\n",
      "\n"
     ]
    }
   ],
   "source": [
    "PhysActive_table <- NHANES %>% \n",
    "  dplyr::select(PhysActive) %>% \n",
    "  group_by(PhysActive) %>% \n",
    "  summarize(AbsoluteFrequency = n())\n",
    "\n",
    "pander(PhysActive_table) "
   ]
  },
  {
   "cell_type": "code",
   "execution_count": 8,
   "metadata": {
    "hidden": true
   },
   "outputs": [
    {
     "name": "stdout",
     "output_type": "stream",
     "text": [
      "\n",
      "--------------------------------\n",
      " PhysActive   AbsoluteFrequency \n",
      "------------ -------------------\n",
      "     No             3677        \n",
      "\n",
      "    Yes             4649        \n",
      "--------------------------------\n",
      "\n"
     ]
    }
   ],
   "source": [
    "NHANES %>%\n",
    "  drop_na(PhysActive) %>%\n",
    "  dplyr::select(PhysActive) %>%\n",
    "  group_by(PhysActive) %>%\n",
    "  summarize(AbsoluteFrequency = n()) %>%\n",
    "  pander()"
   ]
  },
  {
   "cell_type": "code",
   "execution_count": 9,
   "metadata": {
    "hidden": true
   },
   "outputs": [
    {
     "name": "stdout",
     "output_type": "stream",
     "text": [
      "\n",
      "----------------------------------------------------\n",
      " PhysActive   AbsoluteFrequency   RelativeFrequency \n",
      "------------ ------------------- -------------------\n",
      "     No             3677              0.4416286     \n",
      "\n",
      "    Yes             4649              0.5583714     \n",
      "----------------------------------------------------\n",
      "\n"
     ]
    }
   ],
   "source": [
    "NHANES %>%\n",
    "  drop_na(PhysActive) %>%\n",
    "  dplyr::select(PhysActive) %>%\n",
    "  group_by(PhysActive) %>%\n",
    "  summarize(AbsoluteFrequency = n()) %>%\n",
    "  mutate(RelativeFrequency = AbsoluteFrequency / sum(AbsoluteFrequency)) %>%\n",
    "  pander()"
   ]
  },
  {
   "cell_type": "code",
   "execution_count": 10,
   "metadata": {
    "hidden": true
   },
   "outputs": [
    {
     "name": "stdout",
     "output_type": "stream",
     "text": [
      "\n",
      "-----------------------------------------------------------------\n",
      " PhysActive   AbsoluteFrequency   RelativeFrequency   Percentage \n",
      "------------ ------------------- ------------------- ------------\n",
      "     No             3677              0.4416286        44.16286  \n",
      "\n",
      "    Yes             4649              0.5583714        55.83714  \n",
      "-----------------------------------------------------------------\n",
      "\n"
     ]
    }
   ],
   "source": [
    "PhysActive_table_filtered <- NHANES %>%\n",
    "  drop_na(PhysActive) %>%\n",
    "  dplyr::select(PhysActive) %>%\n",
    "  group_by(PhysActive) %>%\n",
    "  summarize(AbsoluteFrequency = n()) %>%\n",
    "  mutate(\n",
    "    RelativeFrequency = AbsoluteFrequency / sum(AbsoluteFrequency),\n",
    "    Percentage = RelativeFrequency * 100\n",
    "  )\n",
    "\n",
    "pander(PhysActive_table_filtered)"
   ]
  },
  {
   "cell_type": "markdown",
   "metadata": {
    "heading_collapsed": true
   },
   "source": [
    "### 4.2.2 Cumulative distributions"
   ]
  },
  {
   "cell_type": "code",
   "execution_count": 122,
   "metadata": {
    "hidden": true
   },
   "outputs": [
    {
     "name": "stdout",
     "output_type": "stream",
     "text": [
      "\n",
      "--------------------------------------------------------------------\n",
      " SleepHrsNight   AbsoluteFrequency   RelativeFrequency   Percentage \n",
      "--------------- ------------------- ------------------- ------------\n",
      "       2                12              0.001547389      0.1547389  \n",
      "\n",
      "       3                59              0.007607995      0.7607995  \n",
      "\n",
      "       4                301             0.038813669      3.8813669  \n",
      "\n",
      "       5                586             0.075564152      7.5564152  \n",
      "\n",
      "       6               1811             0.233526757      23.3526757 \n",
      "\n",
      "       7               2211             0.285106383      28.5106383 \n",
      "\n",
      "       8               2183             0.281495809      28.1495809 \n",
      "\n",
      "       9                406             0.052353320      5.2353320  \n",
      "\n",
      "      10                142             0.018310767      1.8310767  \n",
      "\n",
      "      11                21              0.002707930      0.2707930  \n",
      "\n",
      "      12                23              0.002965828      0.2965828  \n",
      "--------------------------------------------------------------------\n",
      "\n"
     ]
    }
   ],
   "source": [
    "NHANES %>%\n",
    "  drop_na(SleepHrsNight) %>%\n",
    "  dplyr::select(SleepHrsNight) %>%\n",
    "  group_by(SleepHrsNight) %>%\n",
    "  summarize(AbsoluteFrequency = n()) %>%\n",
    "  mutate(\n",
    "    RelativeFrequency = AbsoluteFrequency / sum(AbsoluteFrequency),\n",
    "    Percentage = RelativeFrequency * 100\n",
    "  ) %>% \n",
    "  pander()"
   ]
  },
  {
   "cell_type": "code",
   "execution_count": 6,
   "metadata": {
    "hidden": true
   },
   "outputs": [
    {
     "name": "stderr",
     "output_type": "stream",
     "text": [
      "Warning message:\n",
      "\"Removed 2245 rows containing non-finite values (stat_bin).\"Warning message:\n",
      "\"Removed 2245 rows containing non-finite values (stat_bin).\""
     ]
    },
    {
     "data": {
      "image/png": "[encoded data removed]",
      "text/plain": [
       "plot without title"
      ]
     },
     "metadata": {},
     "output_type": "display_data"
    }
   ],
   "source": [
    "p1 <- ggplot(NHANES,aes(x=SleepHrsNight))+geom_histogram(binwidth=1)\n",
    "p2 <- ggplot(NHANES,aes(x=SleepHrsNight,y=..density..))+geom_histogram(binwidth=1)\n",
    "grid.arrange(p1,p2,ncol=2)"
   ]
  },
  {
   "cell_type": "code",
   "execution_count": 52,
   "metadata": {
    "hidden": true
   },
   "outputs": [
    {
     "name": "stdout",
     "output_type": "stream",
     "text": [
      "\n",
      "-----------------------------------------------------------------------------\n",
      " SleepHrsNight   AbsoluteFrequency   CumulativeFrequency   AbsolutePropotion \n",
      "--------------- ------------------- --------------------- -------------------\n",
      "       2                12                   12               0.001547389    \n",
      "\n",
      "       3                59                   71               0.007607995    \n",
      "\n",
      "       4                301                  372              0.038813669    \n",
      "\n",
      "       5                586                  958              0.075564152    \n",
      "\n",
      "       6               1811                 2769              0.233526757    \n",
      "\n",
      "       7               2211                 4980              0.285106383    \n",
      "\n",
      "       8               2183                 7163              0.281495809    \n",
      "\n",
      "       9                406                 7569              0.052353320    \n",
      "\n",
      "      10                142                 7711              0.018310767    \n",
      "\n",
      "      11                21                  7732              0.002707930    \n",
      "\n",
      "      12                23                  7755              0.002965828    \n",
      "-----------------------------------------------------------------------------\n",
      "\n",
      "Table: Table continues below\n",
      "\n",
      " \n",
      "---------------------\n",
      " CumulativePropotion \n",
      "---------------------\n",
      "     0.001547389     \n",
      "\n",
      "     0.009155384     \n",
      "\n",
      "     0.047969052     \n",
      "\n",
      "     0.123533204     \n",
      "\n",
      "     0.357059961     \n",
      "\n",
      "     0.642166344     \n",
      "\n",
      "     0.923662153     \n",
      "\n",
      "     0.976015474     \n",
      "\n",
      "     0.994326241     \n",
      "\n",
      "     0.997034172     \n",
      "\n",
      "     1.000000000     \n",
      "---------------------\n",
      "\n"
     ]
    }
   ],
   "source": [
    "SleepHrsNight_cumulative <- \n",
    "  NHANES %>%\n",
    "  drop_na(SleepHrsNight) %>%\n",
    "  dplyr::select(SleepHrsNight) %>%\n",
    "  group_by(SleepHrsNight) %>%\n",
    "  summarize(AbsoluteFrequency = n()) %>%\n",
    "  mutate(CumulativeFrequency = cumsum(AbsoluteFrequency))\n",
    "\n",
    "SleepHrsNight_cumulative <- mutate(SleepHrsNight_cumulative, AbsolutePropotion = AbsoluteFrequency / sum(AbsoluteFrequency), CumulativePropotion = CumulativeFrequency / CumulativeFrequency[11])\n",
    "pander(SleepHrsNight_cumulative)\n",
    "\n"
   ]
  },
  {
   "cell_type": "code",
   "execution_count": 54,
   "metadata": {
    "hidden": true
   },
   "outputs": [
    {
     "data": {
      "image/png": "[encoded data removed]",
      "text/plain": [
       "plot without title"
      ]
     },
     "metadata": {},
     "output_type": "display_data"
    }
   ],
   "source": [
    "p1 <- ggplot(SleepHrsNight_cumulative,aes(x=SleepHrsNight,y=CumulativeFrequency))+geom_line(size=2,color=\"blue\")\n",
    "p1 <- p1 + geom_line(aes(x=SleepHrsNight,y=AbsoluteFrequency),size=2,color=\"red\")\n",
    "p2 <- ggplot(SleepHrsNight_cumulative,aes(x=SleepHrsNight,y=CumulativePropotion))+geom_line(size=2,color=\"blue\")\n",
    "p2 <- p2 + geom_line(aes(x=SleepHrsNight,y=AbsolutePropotion),size=2,color=\"red\")\n",
    "grid.arrange(p1,p2,ncol=2)"
   ]
  },
  {
   "cell_type": "markdown",
   "metadata": {
    "heading_collapsed": true
   },
   "source": [
    "### 4.2.3 Plotting histograms"
   ]
  },
  {
   "cell_type": "code",
   "execution_count": 124,
   "metadata": {
    "hidden": true,
    "scrolled": false
   },
   "outputs": [
    {
     "name": "stderr",
     "output_type": "stream",
     "text": [
      "Warning message:\n",
      "\"Removed 353 rows containing non-finite values (stat_bin).\""
     ]
    },
    {
     "data": {
      "image/png": "[encoded data removed]",
      "text/plain": [
       "plot without title"
      ]
     },
     "metadata": {},
     "output_type": "display_data"
    }
   ],
   "source": [
    "p1 <- ggplot(NHANES,aes(x=Age))+geom_histogram(binwidth=1,fill='blue')\n",
    "p2 <- ggplot(NHANES,aes(x=Height))+geom_histogram(binwidth=1,fill='blue')\n",
    "grid.arrange(p1,p2,ncol=2)"
   ]
  },
  {
   "cell_type": "code",
   "execution_count": 140,
   "metadata": {
    "hidden": true,
    "scrolled": false
   },
   "outputs": [
    {
     "name": "stderr",
     "output_type": "stream",
     "text": [
      "Warning message:\n",
      "\"Removed 353 rows containing non-finite values (stat_bin).\"Warning message:\n",
      "\"Removed 53 rows containing non-finite values (stat_bin).\"Warning message:\n",
      "\"Removed 53 rows containing non-finite values (stat_bin).\""
     ]
    },
    {
     "data": {},
     "metadata": {},
     "output_type": "display_data"
    },
    {
     "data": {
      "image/png": "[encoded data removed]",
      "text/plain": [
       "plot without title"
      ]
     },
     "metadata": {},
     "output_type": "display_data"
    },
    {
     "data": {
      "image/png": "[encoded data removed]",
      "text/plain": [
       "plot without title"
      ]
     },
     "metadata": {},
     "output_type": "display_data"
    }
   ],
   "source": [
    "NHANES <- NHANES %>%\n",
    "    mutate(ADULT = ifelse(Age>=20 , \"Adult\" , \"Child\"))\n",
    "p1 <- ggplot(NHANES,aes(x=Height,fill=ADULT))+geom_histogram(binwidth=1)\n",
    "\n",
    "NHANES_adult <- NHANES %>%\n",
    "    filter(Age>=20)\n",
    "p2 <- ggplot(NHANES_adult,aes(x=Height))+geom_histogram(binwidth=1)\n",
    "grid.arrange(p1,p2,ncol=2)\n",
    "\n",
    "p3 <- ggplot(NHANES_adult,aes(x=Height))+geom_histogram(binwidth=.1)\n",
    "p3"
   ]
  },
  {
   "cell_type": "markdown",
   "metadata": {
    "heading_collapsed": true
   },
   "source": [
    "### 4.2.4 Histogram bins"
   ]
  },
  {
   "cell_type": "code",
   "execution_count": 141,
   "metadata": {
    "hidden": true
   },
   "outputs": [
    {
     "name": "stdout",
     "output_type": "stream",
     "text": [
      "\n",
      "--------\n",
      " Height \n",
      "--------\n",
      " 149.7  \n",
      "\n",
      " 149.7  \n",
      "\n",
      " 164.4  \n",
      "\n",
      " 164.4  \n",
      "\n",
      " 164.4  \n",
      "\n",
      " 154.3  \n",
      "--------\n",
      "\n"
     ]
    }
   ],
   "source": [
    "NHANES_adult %>%\n",
    "  dplyr::select(Height) %>%\n",
    "  slice(45:50) %>%\n",
    "  pander()"
   ]
  },
  {
   "cell_type": "markdown",
   "metadata": {
    "hidden": true
   },
   "source": [
    "$$\n",
    "    number\\hspace{2mm} of\\hspace{2mm} bins = \\frac{range\\hspace{2mm} of\\hspace{2mm} scores}{bin\\hspace{2mm} width}\n",
    "$$"
   ]
  },
  {
   "cell_type": "markdown",
   "metadata": {
    "heading_collapsed": true
   },
   "source": [
    "## 4.3 Idealized representations of distributions\n"
   ]
  },
  {
   "cell_type": "code",
   "execution_count": 51,
   "metadata": {
    "hidden": true
   },
   "outputs": [
    {
     "name": "stderr",
     "output_type": "stream",
     "text": [
      "`stat_bin()` using `bins = 30`. Pick better value with `binwidth`.\n",
      "Warning message:\n",
      "\"Removed 53 rows containing non-finite values (stat_bin).\"Warning message:\n",
      "\"Removed 1 rows containing missing values (geom_bar).\"`stat_bin()` using `bins = 30`. Pick better value with `binwidth`.\n",
      "Warning message:\n",
      "\"Removed 254 rows containing non-finite values (stat_bin).\"Warning message:\n",
      "\"Removed 1 rows containing missing values (geom_bar).\""
     ]
    },
    {
     "data": {
      "image/png": "[encoded data removed]",
      "text/plain": [
       "plot without title"
      ]
     },
     "metadata": {},
     "output_type": "display_data"
    }
   ],
   "source": [
    "NHANES_adult <- NHANES %>%\n",
    "    drop_na(Age) %>%\n",
    "    filter(Age>=20)\n",
    "\n",
    "HeightMeanAndSD<- NHANES_adult %>%\n",
    "    drop_na(Height) %>%\n",
    "    summarise(mean=mean(Height),sd=sd(Height))\n",
    "x_height <-  seq(130, 210, length=1000)\n",
    "fx_height <- dnorm(x=x_height,mean=as.numeric(HeightMeanAndSD[\"mean\"]),sd = as.numeric(HeightMeanAndSD[\"sd\"]))\n",
    "Height_randum <-data.frame(x=x_height,y=fx_height)\n",
    "\n",
    "PulseMeanAndSD<- NHANES_adult %>%\n",
    "    drop_na(Pulse) %>%\n",
    "    summarise(mean=mean(Pulse),sd=sd(Pulse))\n",
    "x_pulse <-  seq(30, 140, length=1000)\n",
    "fx_pulse <- dnorm(x=x_pulse,mean=as.numeric(PulseMeanAndSD[\"mean\"]),sd = as.numeric(PulseMeanAndSD[\"sd\"]))\n",
    "Pulse_randum <-data.frame(x=x_pulse,y=fx_pulse)\n",
    "\n",
    "p1 <- ggplot(NULL)\n",
    "p1 <- p1 + geom_histogram(data = NHANES_adult, aes(x=Height,y=..density..))\n",
    "p1 <- p1 + geom_line(data = Height_randum, aes(x,y),size=2,color=\"blue\") + xlim(130,210) + ylim(0, 0.05)\n",
    "\n",
    "p2 <- ggplot(NULL)\n",
    "p2 <- p2 + geom_histogram(data = NHANES_adult, aes(x=Pulse,y=..density..))\n",
    "p2 <- p2 + geom_line(data = Pulse_randum, aes(x,y),size=2,color=\"blue\")+ xlim(30,140) + ylim(0, 0.05)\n",
    "\n",
    "grid.arrange(p1,p2,ncol=2)"
   ]
  },
  {
   "cell_type": "code",
   "execution_count": 50,
   "metadata": {
    "hidden": true
   },
   "outputs": [
    {
     "name": "stderr",
     "output_type": "stream",
     "text": [
      "`stat_bin()` using `bins = 30`. Pick better value with `binwidth`.\n",
      "Warning message:\n",
      "\"Removed 53 rows containing non-finite values (stat_bin).\"Warning message:\n",
      "\"Removed 53 rows containing non-finite values (stat_density).\"Warning message:\n",
      "\"Removed 1 rows containing missing values (geom_bar).\"`stat_bin()` using `bins = 30`. Pick better value with `binwidth`.\n",
      "Warning message:\n",
      "\"Removed 254 rows containing non-finite values (stat_bin).\"Warning message:\n",
      "\"Removed 254 rows containing non-finite values (stat_density).\"Warning message:\n",
      "\"Removed 1 rows containing missing values (geom_bar).\""
     ]
    },
    {
     "data": {
      "image/png": "[encoded data removed]",
      "text/plain": [
       "plot without title"
      ]
     },
     "metadata": {},
     "output_type": "display_data"
    }
   ],
   "source": [
    "NHANES_adult <- NHANES %>%\n",
    "    drop_na(Age) %>%\n",
    "    filter(Age>=20)\n",
    "\n",
    "p1 <- ggplot(data = NHANES_adult, aes(x=Height,y=..density..)) + geom_histogram() + geom_density(size=2,color=\"blue\") + xlim(130,210) + ylim(0, 0.05)\n",
    "p2 <- ggplot(data = NHANES_adult, aes(x=Pulse,y=..density..)) + geom_histogram() + geom_density(size=2,color=\"blue\")+ xlim(30,140) + ylim(0, 0.05)\n",
    "grid.arrange(p1,p2,ncol=2)"
   ]
  },
  {
   "cell_type": "markdown",
   "metadata": {
    "heading_collapsed": true,
    "hidden": true
   },
   "source": [
    "### 4.3.1 Skewness"
   ]
  },
  {
   "cell_type": "markdown",
   "metadata": {
    "hidden": true
   },
   "source": [
    "### 4.3.2 Long-tailed distributions"
   ]
  }
 ],
 "metadata": {
  "hide_input": false,
  "kernelspec": {
   "display_name": "R",
   "language": "R",
   "name": "ir"
  },
  "language_info": {
   "codemirror_mode": "r",
   "file_extension": ".r",
   "mimetype": "text/x-r-source",
   "name": "R",
   "pygments_lexer": "r",
   "version": "3.2.1"
  },
  "toc": {
   "base_numbering": 1,
   "nav_menu": {},
   "number_sections": true,
   "sideBar": true,
   "skip_h1_title": false,
   "title_cell": "Table of Contents",
   "title_sidebar": "Contents",
   "toc_cell": false,
   "toc_position": {},
   "toc_section_display": true,
   "toc_window_display": true
  }
 },
 "nbformat": 4,
 "nbformat_minor": 2
}
