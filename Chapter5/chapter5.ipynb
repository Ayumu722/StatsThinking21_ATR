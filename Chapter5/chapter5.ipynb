{
 "cells": [
  {
   "cell_type": "markdown",
   "metadata": {
    "slideshow": {
     "slide_type": "slide"
    }
   },
   "source": [
    "<br>\n",
    "<div style=\"text-align:center;\"> <font size=\"12\", color = \"Blue\">StatsThinking21 </font> </div>\n",
    "<br><br>\n",
    "<div style=\"text-align:right;\">\n",
    "    <font size = \"7\">\n",
    "        2018/12/28<br>\n",
    "        DecNef Lab<br>\n",
    "        Yoshiki Yoshii\n",
    "    </font>\n",
    "</div>"
   ]
  },
  {
   "cell_type": "markdown",
   "metadata": {
    "slideshow": {
     "slide_type": "slide"
    }
   },
   "source": [
    "</style>\n",
    "# <font color=\"Blue\">**Chaper 5 Fitting models to data**</font>\n",
    "\n",
    "<br> \n",
    "<font size=\"5\">\n",
    "        &emsp; One of the fundamental activites in statistics is creating models<br> \n",
    "        &emsp; that can summarize data using a small set on numbers. \n",
    "</font>\n",
    "\n",
    "&emsp;&emsp; → <span style=\"background-color:#00BFFF\">We can compact description the data</span>\n",
    "\n",
    "\n",
    "<font size=\"7\"><b>\n",
    "    aim \n",
    "</b></font>\n",
    "<br>\n",
    "<font size=\"5\">\n",
    "    &emsp; We will discuss the concept of a statistical model and how it can be used to describe data.\n",
    "</font>\n",
    "\n",
    "\n"
   ]
  },
  {
   "cell_type": "markdown",
   "metadata": {
    "slideshow": {
     "slide_type": "slide"
    }
   },
   "source": [
    "## <font color=\"Blue\"> **5.1 What is a model?** </fon>\n",
    "\n",
    "<font size=\"5\">\n",
    "    &emsp; In the physical world, models are generally simplifications of things in the real world<br>  \n",
    "    &emsp; → Nonetheless, it can explains the essence of the thing being modeled <br>\n",
    "    &emsp; Like physical models, a statistical model is generally <u>much simpler</u> than the data being described<br>\n",
    "    &emsp; → it is meant to capture the structure of the data <span style=\"background-color:#00BFFF\">as simply as possible</span><br> \n",
    "    &emsp; In both cases, the model is a convenient fiction that interprets over some of the details of being modeled<br>\n",
    "    &emsp; George Box famously said:<br>\n",
    "    &emsp;&emsp;&emsp;&emsp;&emsp; \"<span style=\"background-color:#00BFFF\">All models are wrong but some are useful</span>\"<br><br>\n",
    "    &emsp;The basic structure of a statistical model is:\n",
    "</font>\n",
    "   $$ \n",
    "    d a t a = m o d e l + error\n",
    "   $$ \n",
    "   "
   ]
  },
  {
   "cell_type": "markdown",
   "metadata": {
    "slideshow": {
     "slide_type": "slide"
    }
   },
   "source": [
    "## <font color=\"Blue\">**5.2 Statistical modeling: An example**</font>\n",
    "\n",
    "<br>\n",
    "&emsp;&emsp; Here, fitting a model to data, using the data from NHANES<br>\n",
    "\n"
   ]
  },
  {
   "cell_type": "code",
   "execution_count": 3,
   "metadata": {
    "slideshow": {
     "slide_type": "skip"
    }
   },
   "outputs": [],
   "source": [
    "library(NHANES)\n",
    "library(dplyr)\n",
    "library(magrittr)\n",
    "library(pander)\n",
    "library(tidyr)\n",
    "library(ggplot2)\n",
    "library(gridExtra)\n",
    "library(modelr)"
   ]
  },
  {
   "cell_type": "code",
   "execution_count": 4,
   "metadata": {
    "slideshow": {
     "slide_type": "subslide"
    }
   },
   "outputs": [
    {
     "name": "stderr",
     "output_type": "stream",
     "text": [
      "Warning message:\n",
      "“Removed 24 rows containing non-finite values (stat_bin).”"
     ]
    },
    {
     "data": {},
     "metadata": {},
     "output_type": "display_data"
    },
    {
     "data": {
      "image/png": "[encoded data removed]",
      "text/plain": [
       "plot without title"
      ]
     },
     "metadata": {},
     "output_type": "display_data"
    }
   ],
   "source": [
    "NHANES_child <- NHANES %>% drop_na(Age) %>% filter(Age >= 2 & Age<=17)\n",
    "p1 <- ggplot(NHANES_child,aes(x=Height))+geom_histogram(binwidth=0.5)\n",
    "theme_set(theme_classic(base_size = 10.5, base_family = \"\"))\n",
    "options(repr.plot.width=3, repr.plot.height=3)\n",
    "p1"
   ]
  },
  {
   "cell_type": "markdown",
   "metadata": {
    "slideshow": {
     "slide_type": "subslide"
    }
   },
   "source": [
    "<font size=\"5\">\n",
    "    <ul>\n",
    "    <li>We want to describe the data as simply as possible while still capturing their important features<br><br>\n",
    "    <li>What is the simplest model that can capture the essence of data? <br><br>\n",
    "    <li>How about the most common value in the dataset (which we call the mode)?<br>\n",
    "    </ul>\n",
    "</font>"
   ]
  },
  {
   "cell_type": "code",
   "execution_count": 36,
   "metadata": {
    "slideshow": {
     "slide_type": "subslide"
    }
   },
   "outputs": [
    {
     "data": {
      "text/html": [
       "'mode of children\\'s height from NHANES: 166.5'"
      ],
      "text/latex": [
       "'mode of children\\textbackslash{}'s height from NHANES: 166.5'"
      ],
      "text/markdown": [
       "'mode of children\\'s height from NHANES: 166.5'"
      ],
      "text/plain": [
       "[1] \"mode of children's height from NHANES: 166.5\""
      ]
     },
     "metadata": {},
     "output_type": "display_data"
    }
   ],
   "source": [
    "# create function to compute mode and apply to child height data from NHANES\n",
    "#R doesn’t have a built-in function for the mode, so we will create one first\n",
    "getmode <- function(v) {\n",
    "  uniqv <- unique(v)\n",
    "  return(uniqv[which.max(tabulate(match(v, uniqv)))])\n",
    "}\n",
    "\n",
    "height_mode <- getmode(NHANES_child$Height)\n",
    "paste(\"mode of children's height from NHANES:\", height_mode)"
   ]
  },
  {
   "cell_type": "markdown",
   "metadata": {
    "slideshow": {
     "slide_type": "-"
    }
   },
   "source": [
    "<font size=\"5\">\n",
    "    &emsp; Given this, our model for an individual datapoint $i$ would be:&emsp; $\\text {height} _ { i } = 166.5 + \\text { error }$ <br>\n",
    "    &emsp; This redescribes the entire set of all children in terms of a single number.<br>\n",
    "    &emsp; If we wanted to predict the height of any new children, then our guess would be the same number(166.5cm)<br>\n",
    "    &emsp;&emsp; How good of a model is this? <br>\n",
    "    &emsp; In general we define the goodness of a model in terms of the error,<br> \n",
    "    &emsp; which represents the difference between model and the data<br>\n",
    "    &emsp; &emsp;<span style=\"background-color:#00BFFF\"> the model that produces lower error is the better model</span>\n",
    "</font>    "
   ]
  },
  {
   "cell_type": "code",
   "execution_count": 37,
   "metadata": {
    "slideshow": {
     "slide_type": "subslide"
    }
   },
   "outputs": [
    {
     "data": {
      "text/html": [
       "'average error from mode (inches): -27.95'"
      ],
      "text/latex": [
       "'average error from mode (inches): -27.95'"
      ],
      "text/markdown": [
       "'average error from mode (inches): -27.95'"
      ],
      "text/plain": [
       "[1] \"average error from mode (inches): -27.95\""
      ]
     },
     "metadata": {},
     "output_type": "display_data"
    },
    {
     "data": {
      "text/html": [
       "166.5"
      ],
      "text/latex": [
       "166.5"
      ],
      "text/markdown": [
       "166.5"
      ],
      "text/plain": [
       "[1] 166.5"
      ]
     },
     "metadata": {},
     "output_type": "display_data"
    }
   ],
   "source": [
    "# compute error compared to the mode and plot histogram\n",
    "\n",
    "NHANES_child <- NHANES %>%\n",
    "    drop_na(Height) %>%\n",
    "    filter(Age>=2 & Age<=17)\n",
    "#length(NHANES_child$Height)\n",
    "\n",
    "error_mode <- NHANES_child$Height - height_mode\n",
    "sprintf(\"average error from mode (inches): %0.2f\", mean(error_mode))"
   ]
  },
  {
   "cell_type": "markdown",
   "metadata": {
    "slideshow": {
     "slide_type": "-"
    }
   },
   "source": [
    "<body>\n",
    "    <font size=\"5\">\n",
    "        &emsp; The average individual has a fairly large error.<br>\n",
    "        &emsp; We would like to have a model where the average error is 0. <br>\n",
    "        &emsp; We use the mean as our model then this will be the case. <br>\n",
    "        &emsp; The mean (often denoted by <sup>ー</sup>, such as $\\overline { X }$ ) is defined as:<br>\n",
    "    </font>\n",
    "</body>\n",
    "\n",
    "$$\\overline { X } = \\frac { \\sum _ { i = 1 } ^ { n } x _ { i } } { n } $$\n",
    "<font size=\"5\">\n",
    "    &emsp; That is, it is the sum of all of the values, divided by the number of values.<br>\n",
    "</font>"
   ]
  },
  {
   "cell_type": "markdown",
   "metadata": {
    "slideshow": {
     "slide_type": "subslide"
    }
   },
   "source": [
    "<font size=\"5\">\n",
    "    &emsp; We can prove that the sum of errors from the mean (and thus the average error) is 0: <br>\n",
    "    $$\\text {error} = \\sum _ { i = 1 } ^ { n } \\left( x _ { i } - \\overline { X } \\right) = 0 $$\n",
    "    $$\\sum _ { i = 1 } ^ { n } x _ { i } - \\sum _ { i = 1 } ^ { n } \\overline { X } = 0 $$\n",
    "    $$\\sum _ { i = 1 } ^ { n } x _ { i } = \\sum _ { i = 1 } ^ { n } \\overline { X } $$\n",
    "    $$\\sum _ { i = 1 } ^ { n } x _ { i } = n \\overline { X } $$\n",
    "    $$\\sum _ { i = 1 } ^ { n } x _ { i } = \\sum _ { i = 1 } ^ { n } x _ { i } $$ <br>\n",
    "    &emsp; Given that the average error is 0, this seems like a better model. <br>\n",
    "    &emsp; Let's confirm that it comes out correctly.\n",
    "</font>"
   ]
  },
  {
   "cell_type": "code",
   "execution_count": 38,
   "metadata": {
    "slideshow": {
     "slide_type": "subslide"
    }
   },
   "outputs": [
    {
     "data": {
      "text/html": [
       "'average error for mean (inches): -9.626912e-15'"
      ],
      "text/latex": [
       "'average error for mean (inches): -9.626912e-15'"
      ],
      "text/markdown": [
       "'average error for mean (inches): -9.626912e-15'"
      ],
      "text/plain": [
       "[1] \"average error for mean (inches): -9.626912e-15\""
      ]
     },
     "metadata": {},
     "output_type": "display_data"
    }
   ],
   "source": [
    "# compute error from mean\n",
    "\n",
    "NHANES_child <- NHANES %>%\n",
    "    drop_na(Height) %>%\n",
    "    filter(Age>=2 & Age<=17)\n",
    "\n",
    "error_mean <- NHANES_child$Height - mean(NHANES_child$Height)\n",
    "sprintf(\"average error for mean (inches): %e\", mean(error_mean))"
   ]
  },
  {
   "cell_type": "markdown",
   "metadata": {
    "slideshow": {
     "slide_type": "subslide"
    }
   },
   "source": [
    "<font size=\"5\">\n",
    "    &nbsp; The average error here is a very small number, though not technically zero <br>\n",
    "    &emsp;&emsp; Why this happens? <br>\n",
    "    &emsp;&emsp;&emsp; → Due to how computers represent numbers(we will discuss later) <br>\n",
    "    &nbsp; Each individual still has some degree of error <br>\n",
    "    &emsp;&emsp; Some are positive and some are negative, and those cancel each other out <br> \n",
    "    &emsp;&emsp; We generally count both positive and negative errors as bad and summarize <br>\n",
    "    &emsp;&emsp; We could use the absolute value of each error value, and it’s more common to use the squared errors\n",
    "</font>"
   ]
  },
  {
   "cell_type": "markdown",
   "metadata": {
    "slideshow": {
     "slide_type": "-"
    }
   },
   "source": [
    "<body>\n",
    "    <font size=\"5\">\n",
    "        <ol>\n",
    "        <li> we could simply add them </li>\n",
    "        &emsp; → Sum of squared errors <br>\n",
    "        &emsp;Its magnitude depends on the number of data points <br>\n",
    "        &emsp;&emsp; → It can be difficult to interpret unless looking at the same number of observations <br><br>\n",
    "        <li> We could take the mean of the squared error values </li>\n",
    "        &emsp; → Mean Squared Error (MSE) <br>\n",
    "        &emsp;Those are not on the same scale as the original data due to we squared the values before averaging<br>\n",
    "        &emsp;&emsp; → It's also common to take the square root of the MSE (Root Mean Squared Error:RMSE)\n",
    "        </ol>\n",
    "    </font>\n",
    "</body>"
   ]
  },
  {
   "cell_type": "code",
   "execution_count": 8,
   "metadata": {
    "slideshow": {
     "slide_type": "subslide"
    }
   },
   "outputs": [
    {
     "data": {},
     "metadata": {},
     "output_type": "display_data"
    },
    {
     "data": {
      "image/png": "[encoded data removed]",
      "text/plain": [
       "plot without title"
      ]
     },
     "metadata": {},
     "output_type": "display_data"
    }
   ],
   "source": [
    "NHANES_child <- NHANES %>% drop_na(Height) %>% filter(Age>=2 & Age<=17)\n",
    "\n",
    "p2 <- ggplot(NHANES_child,aes(x=error_mean))+geom_histogram(binwidth=0.7)+ xlab(\"Error when predicting height with mean\")\n",
    "theme_set(theme_classic(base_size = 10.5, base_family = \"\"))\n",
    "options(repr.plot.width=4, repr.plot.height=4)\n",
    "p2"
   ]
  },
  {
   "cell_type": "code",
   "execution_count": 39,
   "metadata": {
    "slideshow": {
     "slide_type": "subslide"
    }
   },
   "outputs": [
    {
     "name": "stdout",
     "output_type": "stream",
     "text": [
      "[1] \"Mode: root mean squared error (centimeters): 38.7459459954731\"\n",
      "[1] \"Mean: root mean squared error (centimeters): 26.8337868669553\"\n"
     ]
    }
   ],
   "source": [
    "# compute and print RMSE for mean and mode\n",
    "\n",
    "error_mean <- NHANES_child$Height - mean(NHANES_child$Height)\n",
    "rmse_mean <- sqrt(mean(error_mean**2))\n",
    "rmse_mode <- sqrt(mean(error_mode**2))\n",
    "print(paste(\"Mode: root mean squared error (centimeters):\", rmse_mode))\n",
    "print(paste(\"Mean: root mean squared error (centimeters):\", rmse_mean))"
   ]
  },
  {
   "cell_type": "markdown",
   "metadata": {
    "slideshow": {
     "slide_type": "-"
    }
   },
   "source": [
    "<font size=\"5\">\n",
    "    &emsp; This shows that the mean has a pretty substantial amount of error <br>\n",
    "    &emsp;but it’s still much better than the mode\n",
    "</font>"
   ]
  },
  {
   "cell_type": "markdown",
   "metadata": {
    "slideshow": {
     "slide_type": "slide"
    }
   },
   "source": [
    "### <font color=\"Blue\">5.2.1 Improving our model</font>\n",
    "<br>\n",
    "<font size=\"5\">\n",
    "    &emsp; Can we imagine a better model? <br>\n",
    "    &emsp; Remember that these data are from all children in the NHANES sample, who vary from 2 to 17 years of age. <br>\n",
    "    &emsp; Given this wide age range, we might expect that our model of height should also include age. <br>\n",
    "    &emsp; Let’s plot the data for height against age, to see if this relationship really exists. <br>\n",
    "</font>"
   ]
  },
  {
   "cell_type": "code",
   "execution_count": 16,
   "metadata": {
    "slideshow": {
     "slide_type": "subslide"
    }
   },
   "outputs": [
    {
     "data": {
      "image/png": "[encoded data removed]",
      "text/plain": [
       "plot without title"
      ]
     },
     "metadata": {},
     "output_type": "display_data"
    }
   ],
   "source": [
    "NHANES_child <- NHANES %>%drop_na(Height) %>%filter(Age>=2 & Age<=17) \n",
    "p1 <- ggplot(NHANES_child,aes(x=Age,y=Height)) + geom_point(size = 0.1) +  xlim(2,18) + ggtitle(\"Original data\")+ theme(plot.title = element_text(hjust = 0.5), text = element_text(size = 15))\n",
    "p2 <- ggplot(NHANES_child,aes(x=Age,y=Height)) + geom_point(size = 0.1) + xlim(0,18) + ylim(0,230) + ggtitle(\"age\") + theme(plot.title = element_text(hjust = 0.5), text = element_text(size = 15))\n",
    "z <- lsfit(NHANES_child$Age, NHANES_child$Height, wt=NULL, intercept=FALSE)\n",
    "p2 <- p2+geom_abline(slope = z$coeff, colour = \"blue\")\n",
    "p3 <- ggplot(NHANES_child,aes(x=Age,y=Height)) + geom_point(size = 0.1) + xlim(2,18) + stat_smooth(method = \"lm\", se = TRUE, colour = \"blue\", size = 1) + ggtitle(\"age + constant\") + theme(plot.title = element_text(hjust = 0.5), text = element_text(size = 15))\n",
    "p4 <- ggplot(NHANES_child,aes(x=Age,y=Height,colour=Gender)) + geom_point(size = 0.1) + xlim(2,18) + stat_smooth(method = \"lm\", se = TRUE, size = 1) + theme(legend.title=element_text(size=7),legend.text=element_text(size = 7),legend.position=c(0.8,0.2)) + ggtitle(\"age + constant + gender\") + theme(plot.title = element_text(hjust = 0.5), text = element_text(size = 15))\n",
    "theme_set(theme_classic(base_size = 10, base_family = \"\"))\n",
    "options(repr.plot.width=16, repr.plot.height=4)\n",
    "grid.arrange(p1,p2,p3,p4,nrow=1)"
   ]
  },
  {
   "cell_type": "markdown",
   "metadata": {
    "slideshow": {
     "slide_type": "subslide"
    }
   },
   "source": [
    "<font size=\"5\">\n",
    "    &emsp; We might build a model that relates height to age:<br>\n",
    "</font>\n",
    "    $$\\text {height} _ { i } = \\beta * a g e _ { i } + \\text {error} _ { i }$$\n",
    "<font size=\"5\">\n",
    "    &emsp; where β is a parameter that we multiply by age to get the smallest error <br>\n",
    "    &emsp; Something is clearly wrong with model B <br>\n",
    "    &emsp;&emsp; → The line doesn’t seem to follow the data very well <br>\n",
    "    &emsp;&emsp; → This means that the predicted value of height from the model must take on a value of 0 when age is 0 <br>\n",
    "    &emsp; <font color = \"red\">problem</font><br>\n",
    "    &emsp; the line is mathematically constrained to have a y-value of 0 when x is 0 <br>\n",
    "    &emsp;&emsp; → We can fix this by including a constant value in model<br>\n",
    "    &emsp; The model is:<br>\n",
    "</font>\n",
    "    $$height_{ i } = constant + \\beta * age_{ i } + \\text {error}_{ i }$$\n",
    "<font size=\"5\">\n",
    "    &emsp; where constant is a constant value added to the prediction for all individuals <br>\n",
    "    &emsp; (which we also call the intercept, since it maps onto the intercept in the equation for a line)\n",
    "</font>"
   ]
  },
  {
   "cell_type": "markdown",
   "metadata": {
    "slideshow": {
     "slide_type": "subslide"
    }
   },
   "source": [
    "<font size=\"5\">\n",
    "    &emsp;Model C fitted to the NHANES data<br>\n",
    "    &emsp;we see that the line matches the data much better than the one without a constant <br><br>\n",
    "    &emsp;From the plot of D, it seems that there is a difference between males and females, <br>\n",
    "    &emsp;but it is relatively small and only emerges after the age of puberty\n",
    "</font>"
   ]
  },
  {
   "cell_type": "code",
   "execution_count": 18,
   "metadata": {},
   "outputs": [
    {
     "name": "stdout",
     "output_type": "stream",
     "text": [
      "[1] \"root mean squared error: 8.34\"\n"
     ]
    }
   ],
   "source": [
    "model_age <- lm(Height ~ Age, data = NHANES_child)\n",
    "rmse_age <-\n",
    "  NHANES_child %>% \n",
    "  add_predictions(model_age, var = \"predicted_age\") %>% \n",
    "  summarise(\n",
    "    sqrt(mean((Height - predicted_age)**2))\n",
    "  ) %>% \n",
    "  pull()\n",
    "print(sprintf(\"root mean squared error: %0.2f\", rmse_age))"
   ]
  },
  {
   "cell_type": "code",
   "execution_count": 20,
   "metadata": {
    "slideshow": {
     "slide_type": "subslide"
    }
   },
   "outputs": [
    {
     "data": {
      "text/html": [
       "'model: height = 84.33 + 5.48*Age + 3.57*Gender'"
      ],
      "text/latex": [
       "'model: height = 84.33 + 5.48*Age + 3.57*Gender'"
      ],
      "text/markdown": [
       "'model: height = 84.33 + 5.48*Age + 3.57*Gender'"
      ],
      "text/plain": [
       "[1] \"model: height = 84.33 + 5.48*Age + 3.57*Gender\""
      ]
     },
     "metadata": {},
     "output_type": "display_data"
    },
    {
     "name": "stdout",
     "output_type": "stream",
     "text": [
      "[1] \"root mean squared error: 8.15\"\n"
     ]
    }
   ],
   "source": [
    "# compute model fit for modeling with age and gender\n",
    "model_age_gender <- lm(Height ~ Age + Gender, data = NHANES_child)\n",
    "rmse_age_gender <-\n",
    "  NHANES_child %>% \n",
    "  add_predictions(model_age_gender, var = \"predicted_age_gender\") %>% \n",
    "  summarise( sqrt(mean((Height - predicted_age_gender)**2)) ) %>% \n",
    "  pull()\n",
    "\n",
    "sprintf(\n",
    "  \"model: height = %0.2f + %0.2f*Age + %0.2f*Gender\",\n",
    "  model_age_gender$coefficients[1],\n",
    "  model_age_gender$coefficients[2],\n",
    "  model_age_gender$coefficients[3]\n",
    ")\n",
    "print(sprintf(\"root mean squared error: %0.2f\", rmse_age_gender))"
   ]
  },
  {
   "cell_type": "code",
   "execution_count": 44,
   "metadata": {
    "scrolled": true,
    "slideshow": {
     "slide_type": "subslide"
    }
   },
   "outputs": [
    {
     "data": {},
     "metadata": {},
     "output_type": "display_data"
    },
    {
     "data": {
      "image/png": "[encoded data removed]",
      "text/plain": [
       "plot without title"
      ]
     },
     "metadata": {},
     "output_type": "display_data"
    }
   ],
   "source": [
    "m <- data.frame(\n",
    "     RMSR = c(sqrt(rmse_age_gender), sqrt(rmse_age), sqrt(rmse_mean), sqrt(rmse_mode)),\n",
    "     labe = c(\"mean + age + gender\",\"mean + age\",\"mean \",\"mode\")\n",
    ")\n",
    "p1 <- ggplot(m,aes(x = labe, y = RMSR)) + geom_bar(stat = \"identity\", size=3) + coord_flip()\n",
    "p1 <- p1 + scale_x_discrete(limits=c(\"mode\", \"mean \", \"mean + age\", \"mean + age + gender\")) + ylab(\"RSME\") + xlab(\"model\")\n",
    "theme_set(theme_classic(base_size = 10, base_family = \"\"))\n",
    "options(repr.plot.width=4, repr.plot.height=3)\n",
    "p1\n"
   ]
  },
  {
   "cell_type": "markdown",
   "metadata": {
    "slideshow": {
     "slide_type": "slide"
    }
   },
   "source": [
    "### <font color=\"Blue\">**5.3 What makes a model `good` ?**</font>\n",
    "<br>\n",
    "<font size=\"5\">\n",
    "    &emsp; There are generally two different things.<br>\n",
    "    <ul>\n",
    "        <li>as possible as lowest error</li>\n",
    "        <li>generalize well to new datasets</li>\n",
    "    </ul>\n",
    "    <br>\n",
    "    &emsp; These often are in conflict.<br>\n",
    "    &emsp; To understand this, let’s think about where error comes from!<br> \n",
    "    &emsp; it can occur if our model is wrong<br>\n",
    "    &emsp;&emsp; → error can also occur even when the model is correct <br> \n",
    "    &emsp;&emsp;due to random variation in the data, which we often refer to as \n",
    "    <span style=\"background-color:#F2F2F2\">measurement error</span> or <span style=\"background-color:#F2F2F2\">noise</span> \n",
    "</font>\n"
   ]
  },
  {
   "cell_type": "markdown",
   "metadata": {
    "slideshow": {
     "slide_type": "subslide"
    }
   },
   "source": [
    "<font size=\"5\">\n",
    "    &emsp;Simulated relationship between blood alcohol content and reaction time on a driving test, with best-fitting linear model.<br>\n",
    "</font>\n",
    "\n",
    "<img src=\"http://statsthinking21.org/StatsThinking21_files/figure-html/BACrt-1.png\" title=\"fig5.5\" width=\"540x400\" style=\"center\">"
   ]
  },
  {
   "cell_type": "markdown",
   "metadata": {
    "slideshow": {
     "slide_type": "slide"
    }
   },
   "source": [
    "### <font color=\"Blue\">5.4 Can a model be too good?</font>\n",
    "<font size=\"5\">\n",
    "    &emsp; The error sounds like a bad thing, and usually we prefer a model has that lower error than higher error. <br>\n",
    "    &emsp; However, the model with the lowest error often is worse at generalizing to new datasets!<br>\n",
    "</font>\n",
    "\n",
    "<img src=\"http://statsthinking21.org/StatsThinking21_files/figure-html/Overfitting-1.png\" title=\"fig5.6\" width=\"600x400\">\n",
    "<br>\n",
    "&emsp;&emsp;&emsp; \"<span style=\"background-color:#00BFFF\">Everything should be as simple as it can be, but not simpler</span>\"<br><br>\n",
    "   \n"
   ]
  },
  {
   "cell_type": "markdown",
   "metadata": {
    "slideshow": {
     "slide_type": "slide"
    }
   },
   "source": [
    "### <font color=\"Blue\">5.5 The simplest model: The mean</font>\n",
    "<font size=\"5\">\n",
    "    &emsp; Mean is commonly used to describe what the “central tendency” of a dataset.<br>\n",
    "    &emsp; Most people don’t think of computing a mean as fitting a model to data. <br>\n",
    "    &emsp; However, that’s exactly what we are doing when we compute the mean.<br>\n",
    "</font>\n",
    "    $$ \\overline { X } = \\frac { \\sum _ { i = 1 } ^ { n } x _ { i } } { n } $$\n",
    "<font size=\"5\">\n",
    "    &emsp; This formula is a set of data points selected from a larger population. <br>\n",
    "    &emsp; Using a sample, we wish to characterize a larger population<br> \n",
    "    &emsp; (the full set of individuals that we are interested in).<br>\n",
    "    &emsp; describe values for a sample from parameters that describe values for a population.<br>\n",
    "    &emsp; the formula for the population mean (denoted as μ ) is:<br>\n",
    "</font>\n",
    "    $$ \\mu = \\frac { \\sum _ { i = 1 } ^ { N } x _ { i } } { N } $$\n",
    "<font size=\"5\">\n",
    "    &emsp; where N is the size of the entire population.\n",
    "</font>"
   ]
  },
  {
   "cell_type": "markdown",
   "metadata": {
    "slideshow": {
     "slide_type": "subslide"
    }
   },
   "source": [
    "<font size=\"5\">\n",
    "    &emsp; The mean is the summary statistic that is guaranteed to give us a \n",
    "    <span style=\"background-color:#F2F2F2\">mean error of zero</span>. <br>\n",
    "    &emsp; The mean also has another characteristic:<br>\n",
    "    &emsp;&emsp; <u>It is the summary statistic that minimizes the sum of squared errors (SSE).</u><br>    \n",
    "    &emsp; In statistics, we refer to this as being the “best” estimator. <br>\n",
    "</font>"
   ]
  },
  {
   "cell_type": "markdown",
   "metadata": {
    "slideshow": {
     "slide_type": "-"
    }
   },
   "source": [
    "<font size=\"5\">\n",
    "    &emsp; This minimization of SSE is a good feature, and it’s why the mean is the most commonly used statistic to summarize data.<br>\n",
    "    &emsp; However, the mean also has a dark side.\n",
    "</font>"
   ]
  },
  {
   "cell_type": "code",
   "execution_count": 45,
   "metadata": {
    "slideshow": {
     "slide_type": "subslide"
    }
   },
   "outputs": [
    {
     "data": {
      "text/html": [
       "<table>\n",
       "<thead><tr><th scope=col>income</th><th scope=col>person</th></tr></thead>\n",
       "<tbody>\n",
       "\t<tr><td>48000 </td><td>Joe   </td></tr>\n",
       "\t<tr><td>64000 </td><td>Karen </td></tr>\n",
       "\t<tr><td>58000 </td><td>Mark  </td></tr>\n",
       "\t<tr><td>72000 </td><td>Andrea</td></tr>\n",
       "\t<tr><td>66000 </td><td>Pat   </td></tr>\n",
       "</tbody>\n",
       "</table>\n"
      ],
      "text/latex": [
       "\\begin{tabular}{r|ll}\n",
       " income & person\\\\\n",
       "\\hline\n",
       "\t 48000  & Joe   \\\\\n",
       "\t 64000  & Karen \\\\\n",
       "\t 58000  & Mark  \\\\\n",
       "\t 72000  & Andrea\\\\\n",
       "\t 66000  & Pat   \\\\\n",
       "\\end{tabular}\n"
      ],
      "text/markdown": [
       "\n",
       "income | person | \n",
       "|---|---|---|---|---|\n",
       "| 48000  | Joe    | \n",
       "| 64000  | Karen  | \n",
       "| 58000  | Mark   | \n",
       "| 72000  | Andrea | \n",
       "| 66000  | Pat    | \n",
       "\n",
       "\n"
      ],
      "text/plain": [
       "  income person\n",
       "1 48000  Joe   \n",
       "2 64000  Karen \n",
       "3 58000  Mark  \n",
       "4 72000  Andrea\n",
       "5 66000  Pat   "
      ]
     },
     "metadata": {},
     "output_type": "display_data"
    },
    {
     "data": {
      "text/html": [
       "<table>\n",
       "<tbody>\n",
       "\t<tr><th scope=row>income</th><td>48000 </td><td>64000 </td><td>58000 </td><td>72000 </td><td>66000 </td></tr>\n",
       "\t<tr><th scope=row>person</th><td>Joe   </td><td>Karen </td><td>Mark  </td><td>Andrea</td><td>Pat   </td></tr>\n",
       "</tbody>\n",
       "</table>\n"
      ],
      "text/latex": [
       "\\begin{tabular}{r|lllll}\n",
       "\tincome & 48000  & 64000  & 58000  & 72000  & 66000 \\\\\n",
       "\tperson & Joe    & Karen  & Mark   & Andrea & Pat   \\\\\n",
       "\\end{tabular}\n"
      ],
      "text/markdown": [
       "\n",
       "| income | 48000  | 64000  | 58000  | 72000  | 66000  | \n",
       "| person | Joe    | Karen  | Mark   | Andrea | Pat    | \n",
       "\n",
       "\n"
      ],
      "text/plain": [
       "       [,1]  [,2]  [,3]  [,4]   [,5] \n",
       "income 48000 64000 58000 72000  66000\n",
       "person Joe   Karen Mark  Andrea Pat  "
      ]
     },
     "metadata": {},
     "output_type": "display_data"
    },
    {
     "data": {
      "text/html": [
       "'Mean income: 61600.00'"
      ],
      "text/latex": [
       "'Mean income: 61600.00'"
      ],
      "text/markdown": [
       "'Mean income: 61600.00'"
      ],
      "text/plain": [
       "[1] \"Mean income: 61600.00\""
      ]
     },
     "metadata": {},
     "output_type": "display_data"
    }
   ],
   "source": [
    "# create income data frame\n",
    "\n",
    "incomeDf <- \n",
    "  tibble(\n",
    "  income = c(48000, 64000, 58000, 72000, 66000),\n",
    "  person = c(\"Joe\", \"Karen\", \"Mark\", \"Andrea\", \"Pat\")\n",
    ")\n",
    "# glimpse(incomeDf)\n",
    "\n",
    "panderOptions('digits',2)\n",
    "#pander(incomeDf)\n",
    "incomeDf\n",
    "t(incomeDf)\n",
    "sprintf(\"Mean income: %0.2f\", mean(incomeDf$income))"
   ]
  },
  {
   "cell_type": "code",
   "execution_count": 46,
   "metadata": {
    "slideshow": {
     "slide_type": "subslide"
    }
   },
   "outputs": [
    {
     "data": {
      "text/html": [
       "<table>\n",
       "<tbody>\n",
       "\t<tr><th scope=row>income</th><td>4.8e+04</td><td>6.4e+04</td><td>5.8e+04</td><td>7.2e+04</td><td>6.6e+04</td><td>5.4e+07</td></tr>\n",
       "\t<tr><th scope=row>person</th><td>Joe    </td><td>Karen  </td><td>Mark   </td><td>Andrea </td><td>Pat    </td><td>Beyonce</td></tr>\n",
       "</tbody>\n",
       "</table>\n"
      ],
      "text/latex": [
       "\\begin{tabular}{r|llllll}\n",
       "\tincome & 4.8e+04 & 6.4e+04 & 5.8e+04 & 7.2e+04 & 6.6e+04 & 5.4e+07\\\\\n",
       "\tperson & Joe     & Karen   & Mark    & Andrea  & Pat     & Beyonce\\\\\n",
       "\\end{tabular}\n"
      ],
      "text/markdown": [
       "\n",
       "| income | 4.8e+04 | 6.4e+04 | 5.8e+04 | 7.2e+04 | 6.6e+04 | 5.4e+07 | \n",
       "| person | Joe     | Karen   | Mark    | Andrea  | Pat     | Beyonce | \n",
       "\n",
       "\n"
      ],
      "text/plain": [
       "       [,1]    [,2]    [,3]    [,4]    [,5]    [,6]   \n",
       "income 4.8e+04 6.4e+04 5.8e+04 7.2e+04 6.6e+04 5.4e+07\n",
       "person Joe     Karen   Mark    Andrea  Pat     Beyonce"
      ]
     },
     "metadata": {},
     "output_type": "display_data"
    },
    {
     "data": {
      "text/html": [
       "'Mean income: 9051333.33'"
      ],
      "text/latex": [
       "'Mean income: 9051333.33'"
      ],
      "text/markdown": [
       "'Mean income: 9051333.33'"
      ],
      "text/plain": [
       "[1] \"Mean income: 9051333.33\""
      ]
     },
     "metadata": {},
     "output_type": "display_data"
    }
   ],
   "source": [
    "# add Beyonce to income data frame\n",
    "\n",
    "incomeDf <- \n",
    "  incomeDf %>% \n",
    "  rbind(c(54000000, \"Beyonce\")) %>% \n",
    "  mutate(income = as.double(income))\n",
    "\n",
    "#pander(incomeDf)\n",
    "t(incomeDf)\n",
    "sprintf(\"Mean income: %0.2f\", mean(incomeDf$income))"
   ]
  },
  {
   "cell_type": "markdown",
   "metadata": {
    "slideshow": {
     "slide_type": "subslide"
    }
   },
   "source": [
    "<font size=\"5\">\n",
    "    &emsp; In general, the mean is highly sensitive to extreme values, <br><br>\n",
    "    &emsp; which is why it’s always important to ensure that<br><br>\n",
    "    &emsp; there are no extreme values when using the mean to summarize data.\n",
    "</font>"
   ]
  },
  {
   "cell_type": "markdown",
   "metadata": {
    "slideshow": {
     "slide_type": "slide"
    }
   },
   "source": [
    "#### <font color=\"Blue\">5.5.1 The median</font>\n",
    "<br>\n",
    "<font size=\"5\">\n",
    "    &emsp; If we want to summarize the data in a way that is less sensitive to outliers<br> \n",
    "    &emsp; We can use another statistic called the <span style=\"background-color:#F2F2F2\">median</span>.\n",
    "</font>"
   ]
  },
  {
   "cell_type": "code",
   "execution_count": 410,
   "metadata": {
    "slideshow": {
     "slide_type": "subslide"
    }
   },
   "outputs": [
    {
     "data": {
      "text/html": [
       "<table>\n",
       "<tbody>\n",
       "\t<tr><th scope=row>values</th><td>8 </td><td>6 </td><td>3 </td><td>14</td><td>12</td><td>7 </td><td>6 </td><td>4 </td><td>9 </td></tr>\n",
       "</tbody>\n",
       "</table>\n"
      ],
      "text/latex": [
       "\\begin{tabular}{r|lllllllll}\n",
       "\tvalues & 8  & 6  & 3  & 14 & 12 & 7  & 6  & 4  & 9 \\\\\n",
       "\\end{tabular}\n"
      ],
      "text/markdown": [
       "\n",
       "| values | 8  | 6  | 3  | 14 | 12 | 7  | 6  | 4  | 9  | \n",
       "\n",
       "\n"
      ],
      "text/plain": [
       "       [,1] [,2] [,3] [,4] [,5] [,6] [,7] [,8] [,9]\n",
       "values 8    6    3    14   12   7    6    4    9   "
      ]
     },
     "metadata": {},
     "output_type": "display_data"
    }
   ],
   "source": [
    "# create example data frame\n",
    "dataDf <- \n",
    "  tibble(\n",
    "    values = c(8, 6, 3, 14, 12, 7, 6, 4, 9)\n",
    "  )\n",
    "\n",
    "#pander(t(dataDf))\n",
    "t(dataDf)"
   ]
  },
  {
   "cell_type": "code",
   "execution_count": 415,
   "metadata": {
    "slideshow": {
     "slide_type": "-"
    }
   },
   "outputs": [
    {
     "data": {
      "text/html": [
       "<table>\n",
       "<tbody>\n",
       "\t<tr><th scope=row>values</th><td>3 </td><td>4 </td><td>6 </td><td>6 </td><td>7 </td><td>8 </td><td>9 </td><td>12</td><td>14</td></tr>\n",
       "</tbody>\n",
       "</table>\n"
      ],
      "text/latex": [
       "\\begin{tabular}{r|lllllllll}\n",
       "\tvalues & 3  & 4  & 6  & 6  & 7  & 8  & 9  & 12 & 14\\\\\n",
       "\\end{tabular}\n"
      ],
      "text/markdown": [
       "\n",
       "| values | 3  | 4  | 6  | 6  | 7  | 8  | 9  | 12 | 14 | \n",
       "\n",
       "\n"
      ],
      "text/plain": [
       "       [,1] [,2] [,3] [,4] [,5] [,6] [,7] [,8] [,9]\n",
       "values 3    4    6    6    7    8    9    12   14  "
      ]
     },
     "metadata": {},
     "output_type": "display_data"
    },
    {
     "data": {
      "text/html": [
       "'Median: 7'"
      ],
      "text/latex": [
       "'Median: 7'"
      ],
      "text/markdown": [
       "'Median: 7'"
      ],
      "text/plain": [
       "[1] \"Median: 7\""
      ]
     },
     "metadata": {},
     "output_type": "display_data"
    }
   ],
   "source": [
    "# sort values and print\n",
    "dataDf <-\n",
    "  dataDf %>% \n",
    "  arrange(values)\n",
    "\n",
    "#pander(t(dataDf))\n",
    "t(dataDf)\n",
    "sprintf(\"Median: %d\",median(dataDf$values))"
   ]
  },
  {
   "cell_type": "markdown",
   "metadata": {
    "slideshow": {
     "slide_type": "subslide"
    }
   },
   "source": [
    "<font size=\"5\">\n",
    "    &emsp; Whereas the mean minimizes the sum of squared errors, the median minimizes a slighty different quantity: <br>\n",
    "    &emsp; The sum of absolute errors<br><br>\n",
    "    &emsp; Explains why it is less sensitive to outliers\n",
    "</font>"
   ]
  },
  {
   "cell_type": "code",
   "execution_count": 47,
   "metadata": {
    "slideshow": {
     "slide_type": "-"
    }
   },
   "outputs": [
    {
     "data": {
      "text/html": [
       "<table>\n",
       "<tbody>\n",
       "\t<tr><th scope=row>income</th><td>4.8e+04</td><td>5.8e+04</td><td>6.4e+04</td><td>6.6e+04</td><td>7.2e+04</td><td>5.4e+07</td></tr>\n",
       "\t<tr><th scope=row>person</th><td>Joe    </td><td>Mark   </td><td>Karen  </td><td>Pat    </td><td>Andrea </td><td>Beyonce</td></tr>\n",
       "</tbody>\n",
       "</table>\n"
      ],
      "text/latex": [
       "\\begin{tabular}{r|llllll}\n",
       "\tincome & 4.8e+04 & 5.8e+04 & 6.4e+04 & 6.6e+04 & 7.2e+04 & 5.4e+07\\\\\n",
       "\tperson & Joe     & Mark    & Karen   & Pat     & Andrea  & Beyonce\\\\\n",
       "\\end{tabular}\n"
      ],
      "text/markdown": [
       "\n",
       "| income | 4.8e+04 | 5.8e+04 | 6.4e+04 | 6.6e+04 | 7.2e+04 | 5.4e+07 | \n",
       "| person | Joe     | Mark    | Karen   | Pat     | Andrea  | Beyonce | \n",
       "\n",
       "\n"
      ],
      "text/plain": [
       "       [,1]    [,2]    [,3]    [,4]    [,5]    [,6]   \n",
       "income 4.8e+04 5.8e+04 6.4e+04 6.6e+04 7.2e+04 5.4e+07\n",
       "person Joe     Mark    Karen   Pat     Andrea  Beyonce"
      ]
     },
     "metadata": {},
     "output_type": "display_data"
    },
    {
     "data": {
      "text/html": [
       "'Mean income: 9051333.33'"
      ],
      "text/latex": [
       "'Mean income: 9051333.33'"
      ],
      "text/markdown": [
       "'Mean income: 9051333.33'"
      ],
      "text/plain": [
       "[1] \"Mean income: 9051333.33\""
      ]
     },
     "metadata": {},
     "output_type": "display_data"
    },
    {
     "data": {
      "text/html": [
       "'Median income: 65000.00'"
      ],
      "text/latex": [
       "'Median income: 65000.00'"
      ],
      "text/markdown": [
       "'Median income: 65000.00'"
      ],
      "text/plain": [
       "[1] \"Median income: 65000.00\""
      ]
     },
     "metadata": {},
     "output_type": "display_data"
    }
   ],
   "source": [
    "incomeDf <-\n",
    "  incomeDf %>% \n",
    "  arrange(income)\n",
    "\n",
    "t(incomeDf)\n",
    "sprintf('Mean income: %.2f',mean(incomeDf$income))\n",
    "sprintf('Median income: %.2f',median(incomeDf$income))\n"
   ]
  },
  {
   "cell_type": "markdown",
   "metadata": {
    "slideshow": {
     "slide_type": "subslide"
    }
   },
   "source": [
    "<font size=\"5\">\n",
    "    &emsp; The median is much more representative of the group as a whole, and less sensitive to the one large outlier.<br>\n",
    "    &emsp; The mean is the \n",
    "    <span style=\"background-color:#F2F2F2\">best</span> \n",
    "    estimator in the sense that<br> \n",
    "    &emsp; it will vary less from sample to sample compared to other estimators.<br>\n",
    "    &emsp; It's up to us to decide whether that is worth the sensitivity to potential outliers. <br>\n",
    "    &emsp; <span style=\"background-color:#00BFFF\">statistics is all about tradeoffs</span>.\n",
    "</font>"
   ]
  },
  {
   "cell_type": "markdown",
   "metadata": {
    "slideshow": {
     "slide_type": "slide"
    }
   },
   "source": [
    "### <font color=\"Blue\">5.6 The mode</font>\n",
    "<br>\n",
    "<font size=\"5\">\n",
    "    &emsp; Sometimes we wish to describe the central tendency of a dataset that is not numeric.\n",
    "</font>"
   ]
  },
  {
   "cell_type": "code",
   "execution_count": 52,
   "metadata": {
    "slideshow": {
     "slide_type": "-"
    }
   },
   "outputs": [
    {
     "data": {
      "text/html": [
       "6.77380952380952"
      ],
      "text/latex": [
       "6.77380952380952"
      ],
      "text/markdown": [
       "6.77380952380952"
      ],
      "text/plain": [
       "[1] 6.77381"
      ]
     },
     "metadata": {},
     "output_type": "display_data"
    }
   ],
   "source": [
    "# compute mean of iPhone model numbers\n",
    "iphoneDf <- \n",
    "  tribble(\n",
    "    ~iPhoneModel, ~count,\n",
    "    5, 325,\n",
    "    6, 450,\n",
    "    7, 700,\n",
    "    8, 625\n",
    ")\n",
    "meanPhoneNumber <- \n",
    "  iphoneDf %>% \n",
    "  summarize(\n",
    "    sum(iPhoneModel * count) / sum(count)\n",
    "  ) %>% \n",
    "  pull()\n",
    "meanPhoneNumber"
   ]
  },
  {
   "cell_type": "markdown",
   "metadata": {
    "slideshow": {
     "slide_type": "slide"
    }
   },
   "source": [
    "### <font color=\"Blue\">5.7 Variability: How well does the mean fit the data?</font>\n",
    "<br>\n",
    "<font size=\"5\">\n",
    "    &emsp; We often want to describe how variable the data<br>\n",
    "    &emsp; → This is sometimes also referred to as <span style=\"background-color:#F2F2F2\">dispersion</span> <br>\n",
    "    &emsp; It is the basis for the most commonly used measures of variability: <br>\n",
    "    &emsp; The <span style=\"background-color:#F2F2F2\">variance</span> and \n",
    "    <span style=\"background-color:#F2F2F2\">the standard deviation</span> <br>\n",
    "</font>\n",
    "    $$ \\sigma ^ { 2 } = \\frac { S S E } { N } = \\frac { \\sum _ { i = 1 } ^ { n } \\left( x _ { i } - \\mu \\right) ^ { 2 } } { N }$$\n",
    "<font size=\"5\">\n",
    "    &emsp; where $\\sigma ^ { 2 }$ is the variance for a population and $\\mu$ is the population mean<br>\n",
    "    &emsp; We usually don't have access to the entire population, so we have to compute the variance using a sample<br>\n",
    "    &emsp; which we refer to as  $\\hat { \\sigma } ^ { 2 }$, with the $\\hat{}$ representing the fact that this is an estimate based on a sample<b r>\n",
    "    $$\\hat { \\sigma } ^ { 2 } = \\frac { \\sum _ { i = 1 } ^ { N } \\left( x _ { i } - \\overline { X } \\right) ^ { 2 } } { n - 1 }$$"
   ]
  },
  {
   "cell_type": "code",
   "execution_count": 100,
   "metadata": {
    "slideshow": {
     "slide_type": "subslide"
    }
   },
   "outputs": [
    {
     "data": {
      "text/html": [
       "<table>\n",
       "<tbody>\n",
       "\t<tr><th scope=row>x</th><td>3 </td><td>5 </td><td>7 </td><td>9 </td><td>11</td></tr>\n",
       "</tbody>\n",
       "</table>\n"
      ],
      "text/latex": [
       "\\begin{tabular}{r|lllll}\n",
       "\tx & 3  & 5  & 7  & 9  & 11\\\\\n",
       "\\end{tabular}\n"
      ],
      "text/markdown": [
       "\n",
       "| x | 3  | 5  | 7  | 9  | 11 | \n",
       "\n",
       "\n"
      ],
      "text/plain": [
       "  [,1] [,2] [,3] [,4] [,5]\n",
       "x 3    5    7    9    11  "
      ]
     },
     "metadata": {},
     "output_type": "display_data"
    },
    {
     "data": {
      "text/html": [
       "'7.00'"
      ],
      "text/latex": [
       "'7.00'"
      ],
      "text/markdown": [
       "'7.00'"
      ],
      "text/plain": [
       "[1] \"7.00\""
      ]
     },
     "metadata": {},
     "output_type": "display_data"
    }
   ],
   "source": [
    "# generate example data points\n",
    "dfDf <- tibble( x = c(3, 5, 7, 9, 11) )\n",
    "\n",
    "#pander(dfDf)\n",
    "t(dfDf)\n",
    "\n",
    "# compute mean\n",
    "meanx <- dfDf %>% summarize( mean(x) ) %>% pull()\n",
    "sprintf('%0.2f',meanx)"
   ]
  },
  {
   "cell_type": "markdown",
   "metadata": {
    "slideshow": {
     "slide_type": "-"
    }
   },
   "source": [
    "<font size=\"5\">\n",
    "    &emsp; Because we know that the mean of this dataset is 7,<br> \n",
    "    &emsp; we can compute what any specific value would be if it were missing<br>\n",
    "</font>\n",
    "    $$ 7 * n = 35 \\text { and } 35 - ( 5 + 7 + 9 + 11 ) = 3 $$\n",
    "\n"
   ]
  },
  {
   "cell_type": "markdown",
   "metadata": {
    "slideshow": {
     "slide_type": "slide"
    }
   },
   "source": [
    "### <font color=\"Blue\">5.8 Using simulations to understand statistics</font>\n",
    "<br>\n",
    "<font size=\"5\">\n",
    "    &emsp; treat the entire sample of children from the NHANES data as \n",
    "    <span style=\"background-color:#F2F2F2\">population</span> <br>\n",
    "    &emsp; see how well the calculations of sample variance using either $N$ or $N-1$ in the denominator will estimate the population variance\n",
    "</font>"
   ]
  },
  {
   "cell_type": "code",
   "execution_count": 438,
   "metadata": {
    "slideshow": {
     "slide_type": "subslide"
    }
   },
   "outputs": [
    {
     "data": {
      "text/html": [
       "'population variance: 720.38'"
      ],
      "text/latex": [
       "'population variance: 720.38'"
      ],
      "text/markdown": [
       "'population variance: 720.38'"
      ],
      "text/plain": [
       "[1] \"population variance: 720.38\""
      ]
     },
     "metadata": {},
     "output_type": "display_data"
    },
    {
     "data": {
      "text/html": [
       "'variance estimate(n): 706.86'"
      ],
      "text/latex": [
       "'variance estimate(n): 706.86'"
      ],
      "text/markdown": [
       "'variance estimate(n): 706.86'"
      ],
      "text/plain": [
       "[1] \"variance estimate(n): 706.86\""
      ]
     },
     "metadata": {},
     "output_type": "display_data"
    },
    {
     "data": {
      "text/html": [
       "'variance estimate(n-1): 721.28'"
      ],
      "text/latex": [
       "'variance estimate(n-1): 721.28'"
      ],
      "text/markdown": [
       "'variance estimate(n-1): 721.28'"
      ],
      "text/plain": [
       "[1] \"variance estimate(n-1): 721.28\""
      ]
     },
     "metadata": {},
     "output_type": "display_data"
    }
   ],
   "source": [
    "# compare variance estimates using N or N-1 in denominator\n",
    "\n",
    "population_variance <- NHANES_child %>% summarize( var(Height) ) %>% pull()\n",
    "\n",
    "# take 100 samples and estimate the sample variance using both N or N-1  in the demoninator\n",
    "sampsize <- 50\n",
    "nsamp <- 1000\n",
    "varhat_n <- array(data = NA, dim = nsamp)\n",
    "varhat_nm1 <- array(data = NA, dim = nsamp)\n",
    "\n",
    "for (i in 1:nsamp) {\n",
    "  samp <- sample_n(NHANES_child, 1000)[1:sampsize, ]\n",
    "  sampmean <- mean(samp$Height)\n",
    "  sse <- sum((samp$Height - sampmean)**2)\n",
    "  varhat_n[i] <- sse / sampsize\n",
    "  varhat_nm1[i] <- sse / (sampsize - 1)\n",
    "}\n",
    "\n",
    "sprintf(\"population variance: %.2f\", population_variance)\n",
    "sprintf(\"variance estimate(n): %.2f\", mean(varhat_n))\n",
    "sprintf(\"variance estimate(n-1): %.2f\", mean(varhat_nm1))"
   ]
  },
  {
   "cell_type": "markdown",
   "metadata": {
    "slideshow": {
     "slide_type": "slide"
    }
   },
   "source": [
    "### <font color=\"Blue\">5.9 Z-scores</font>\n",
    "<br>\n",
    "<fonr size=\"5\">\n",
    "    &emsp; it is often useful to express the individual scores in terms of where they sit with respect to the overall distribution <br><br>\n",
    "</font>\n",
    "<img src=\"http://statsthinking21.org/StatsThinking21_files/figure-html/crimeHist-1.png\" title=\"fig5.8\" width=\"540x400\" style=\"float:left;\">\n",
    "<img src=\"http://statsthinking21.org/StatsThinking21_files/figure-html/popVsCrime-1.png\" title=\"fig5.9\" width=\"540x400\">"
   ]
  },
  {
   "cell_type": "markdown",
   "metadata": {
    "slideshow": {
     "slide_type": "subslide"
    }
   },
   "source": [
    "<font size=\"5\">\n",
    "    &emsp; we see that California is not so dangerous after all<br>\n",
    "    &emsp; its crime rate of 396.1 per 100,000 people is a bit above the mean of 346.81 <br>\n",
    "    &emsp; The formula to compute a Z-score for a data point given that<br> \n",
    "    &emsp; we know the value of the population mean $\\mu$ and standard deviation $\\sigma$ is:<br>\n",
    "</font>\n",
    "    $$ Z ( x ) = \\frac { x - \\mu } { \\sigma } $$\n",
    "<font size=\"5\">\n",
    "    &emsp; We can think of a Z-score as telling you how far away from the mean any data point\n",
    "</font>"
   ]
  },
  {
   "cell_type": "markdown",
   "metadata": {
    "slideshow": {
     "slide_type": "subslide"
    }
   },
   "source": [
    "<font size=\"5\">\n",
    "    &emsp; \"mean of Z-scored data: 1.4658413372004e-16\" <br>\n",
    "    &emsp; \"std deviation of Z-scored data: 1\"<br>\n",
    "    &emsp; The shows that the process of Z-scoring doesn't change the relative distribution of the data points.<br>\n",
    "    &emsp; it just shifts them to have a mean of 0 and a standard deviation of 1. <br>\n",
    "    &emsp; &nbsp; (However, if you look closely, you will see that the mean isn’t exactly 0) <br>\n",
    "    &emsp; This provides us with a slightly more interpretable view of the data. <br>\n",
    "    &emsp; For example, we can see that Nevada, Tennessee, and New Mexico all have crime rates <br>\n",
    "    &emsp; that are roughly two standard deviations above the mean.<br>\n",
    "</font>\n",
    "<img src=\"http://statsthinking21.org/StatsThinking21_files/figure-html/crimeZplot-1.png\" title=\"fig5.10\" width=\"300x250\" style=\"float:left;\">\n",
    "<img src=\"http://statsthinking21.org/StatsThinking21_files/figure-html/crimeZmap-1.png\" title=\"fig5.11\" width=\"300x250\">"
   ]
  },
  {
   "cell_type": "markdown",
   "metadata": {
    "slideshow": {
     "slide_type": "slide"
    }
   },
   "source": [
    "#### <font color=\"Blue\">5.9.1 Interpreting Z-scores</font>\n",
    "<br>\n",
    "<font size=\"4\">\n",
    "    &emsp; The Z in Z-score comes from the fact that the standard normal distribution is often referred to as the Z distribution.<br>\n",
    "    &emsp; &nbsp; (that is, a normal distribution with a mean of zero and a standard deviation of 1)<br>\n",
    "    &emsp; it shows that we expect about 16% of values to fall in Z≥1, and the same proportion to fall in Z≤−1.<br>\n",
    "    &emsp; Thus, if we know the Z-score for a particular data point, <br>\n",
    "    &emsp; we can estimate how likely or unlikely we would be to find a value at least as extreme as that value, which lets us put values into better context.<br>\n",
    "</font>\n",
    "<img src=\"http://statsthinking21.org/StatsThinking21_files/figure-html/zDensityCDF-1.png\" title=\"fig5.11\" width=\"300x250\" style=\"float:left;\">\n",
    "<img src=\"http://statsthinking21.org/StatsThinking21_files/figure-html/zDensity2SD-1.png\" title=\"fig5.12\" width=\"300x250\">\n"
   ]
  },
  {
   "cell_type": "markdown",
   "metadata": {
    "slideshow": {
     "slide_type": "slide"
    }
   },
   "source": [
    "\n",
    "#### <font color=\"Blue\">5.9.2 Standardized scores</font>\n",
    "<font size=\"5\">\n",
    "    &nbsp; Instead of Z-scores, we generate standardized crime scores with a mean of 100 and standard deviation of 10. <br>\n",
    "    &nbsp; We can do this by simply multiplying the Z-scores by 10 and then adding 100.<br>\n",
    "</font>\n",
    "\n",
    "#### <font color=\"Blue\">5.9.2.1 Using Z-scores to compare distributions</font>\n",
    "<font size=\"5\">\n",
    "    &nbsp; One useful application of Z-scores can be compared distributions of different variables.<br>\n",
    "    &nbsp; Having put the data into Z-scores for each variable makes them comparable. <br>\n",
    "</font>\n",
    "<p class=\"img_center\">\n",
    "   <img src=\"http://statsthinking21.org/StatsThinking21_files/figure-html/crimeTypePlot-1.png\" title=\"fig5.13\" width=\"540x400\">\n",
    "</p>\n"
   ]
  },
  {
   "cell_type": "markdown",
   "metadata": {
    "slideshow": {
     "slide_type": "subslide"
    }
   },
   "source": [
    "<font size=\"5\">\n",
    "    &emsp; Let's add one more factor to the plot: Population. <br>\n",
    "    &emsp; Because Z-scores are directly comparable, we can also compute a “Violence difference” score that <br>\n",
    "    &emsp; expresses the relative rate of violent to non-violent (property) crimes across states.<br>\n",
    "    &emsp; then, we can plot those scores against population <br>\n",
    "    &emsp; This shows how we can use Z-scores to bring different variables together on a common scale.<br>\n",
    "</font>\n",
    "<p class=\"img_center\">\n",
    "<img src=\"http://statsthinking21.org/StatsThinking21_files/figure-html/crimeTypePopPlot-1.png\" title=\"fig5.13\" width=\"540x400\">\n",
    "</p>\n"
   ]
  },
  {
   "cell_type": "code",
   "execution_count": null,
   "metadata": {
    "slideshow": {
     "slide_type": "skip"
    }
   },
   "outputs": [],
   "source": []
  }
 ],
 "metadata": {
  "celltoolbar": "Slideshow",
  "kernelspec": {
   "display_name": "R",
   "language": "R",
   "name": "ir"
  },
  "language_info": {
   "codemirror_mode": "r",
   "file_extension": ".r",
   "mimetype": "text/x-r-source",
   "name": "R",
   "pygments_lexer": "r",
   "version": "3.2.1"
  },
  "toc": {
   "base_numbering": 1,
   "nav_menu": {},
   "number_sections": false,
   "sideBar": true,
   "skip_h1_title": false,
   "title_cell": "Table of Contents",
   "title_sidebar": "Contents",
   "toc_cell": false,
   "toc_position": {},
   "toc_section_display": true,
   "toc_window_display": false
  }
 },
 "nbformat": 4,
 "nbformat_minor": 2
}
